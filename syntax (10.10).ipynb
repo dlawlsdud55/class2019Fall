{
 "cells": [
  {
   "cell_type": "code",
   "execution_count": 2,
   "metadata": {},
   "outputs": [
    {
     "name": "stdout",
     "output_type": "stream",
     "text": [
      "1\n",
      "2\n",
      "3\n",
      "4\n"
     ]
    }
   ],
   "source": [
    "# for-roof? for ~ in  : in 뒤에 있는 것을 하나씩 돌려서 한번 할 때마다 i로 받아서 for 밑줄의 일을 하라 (for 1 , print ) \n",
    "a = [1, 2, 3, 4]\n",
    "for i in a : \n",
    "    print (i)"
   ]
  },
  {
   "cell_type": "code",
   "execution_count": 4,
   "metadata": {},
   "outputs": [
    {
     "name": "stdout",
     "output_type": "stream",
     "text": [
      "1\n",
      "2\n",
      "3\n",
      "4\n"
     ]
    }
   ],
   "source": [
    "# range 뒤에 어떤 숫자가 나오면 list를 만들어줌 ex) range(4) : 4 네 개의 index를 만들어라. - 0,1,2,3\n",
    "a = [1, 2, 3, 4]\n",
    "for i in range(4) : \n",
    "    print (a[i])"
   ]
  },
  {
   "cell_type": "code",
   "execution_count": 5,
   "metadata": {},
   "outputs": [
    {
     "name": "stdout",
     "output_type": "stream",
     "text": [
      "0\n",
      "1\n",
      "2\n",
      "3\n"
     ]
    }
   ],
   "source": [
    "a = [1, 2, 3, 4]\n",
    "for i in range(4) : \n",
    "    print (i) "
   ]
  },
  {
   "cell_type": "code",
   "execution_count": 7,
   "metadata": {},
   "outputs": [
    {
     "name": "stdout",
     "output_type": "stream",
     "text": [
      "1\n",
      "2\n",
      "3\n",
      "4\n",
      "6\n",
      "7\n"
     ]
    }
   ],
   "source": [
    "a = [1, 2, 3, 4, 6, 7]\n",
    "for i in range(len(a)) : \n",
    "    print (a[i])  # 가장 첫번째 루프에서 i 의 값 : 0 (a의 0 번째 1이 print out 됨) "
   ]
  },
  {
   "cell_type": "code",
   "execution_count": 10,
   "metadata": {},
   "outputs": [
    {
     "name": "stdout",
     "output_type": "stream",
     "text": [
      "red\n",
      "green\n",
      "blue\n",
      "purple\n"
     ]
    }
   ],
   "source": [
    "a = ['red', 'green', 'blue', 'purple']\n",
    "print (a[0]) ; print(a[1]); print (a[2]); print(a[3])"
   ]
  },
  {
   "cell_type": "code",
   "execution_count": 11,
   "metadata": {},
   "outputs": [
    {
     "name": "stdout",
     "output_type": "stream",
     "text": [
      "red\n",
      "green\n",
      "blue\n",
      "purple\n"
     ]
    }
   ],
   "source": [
    "a = ['red', 'green', 'blue', 'purple']\n",
    "for s in a:\n",
    "    print(s) # 반드시 앞에 띄어져있어야 함"
   ]
  },
  {
   "cell_type": "code",
   "execution_count": 14,
   "metadata": {},
   "outputs": [
    {
     "name": "stdout",
     "output_type": "stream",
     "text": [
      "0\n",
      "1\n",
      "2\n",
      "3\n"
     ]
    }
   ],
   "source": [
    "a = ['red', 'green', 'blue', 'purple']\n",
    "for s in range(len(a)):\n",
    "    print(s)"
   ]
  },
  {
   "cell_type": "code",
   "execution_count": 15,
   "metadata": {},
   "outputs": [
    {
     "name": "stdout",
     "output_type": "stream",
     "text": [
      "red\n",
      "green\n",
      "blue\n",
      "purple\n"
     ]
    }
   ],
   "source": [
    "a = ['red', 'green', 'blue', 'purple']\n",
    "for s in range(len(a)):\n",
    "    print(a[s])"
   ]
  },
  {
   "cell_type": "code",
   "execution_count": 17,
   "metadata": {},
   "outputs": [
    {
     "name": "stdout",
     "output_type": "stream",
     "text": [
      "red\n",
      "green\n",
      "blue\n",
      "purple\n"
     ]
    }
   ],
   "source": [
    "a = ['red', 'green', 'blue', 'purple']\n",
    "b = [0.2, 0.3, 0.1, 0.4]\n",
    "\n",
    "for i, s in  enumerate(a) :# enumerate() 함수 : ()안의 list를 번호를 추가로 매김 (번호매김index + list 값)- 첫번째 루프에 i 에 0, s 에 red \n",
    "    print (a[i]) \n",
    "    "
   ]
  },
  {
   "cell_type": "code",
   "execution_count": 18,
   "metadata": {},
   "outputs": [
    {
     "name": "stdout",
     "output_type": "stream",
     "text": [
      "red:20.0%\n",
      "green:30.0%\n",
      "blue:10.0%\n",
      "purple:40.0%\n"
     ]
    }
   ],
   "source": [
    "a = ['red', 'green', 'blue', 'purple']\n",
    "b = [0.2, 0.3, 0.1, 0.4]\n",
    "\n",
    "for i, s in  enumerate(a) :\n",
    "    print(\"{}:{}%\".format(s, b[i]*100))  # format( , )안의 값이 \"{},{}\"안의 값으로 각각 꽂힌다고 생각 - 첫번째는 red, b[0]*100 "
   ]
  },
  {
   "cell_type": "code",
   "execution_count": 19,
   "metadata": {},
   "outputs": [
    {
     "name": "stdout",
     "output_type": "stream",
     "text": [
      "red:20.0%\n",
      "green:30.0%\n",
      "blue:10.0%\n",
      "purple:40.0%\n"
     ]
    }
   ],
   "source": [
    "a = ['red', 'green', 'blue', 'purple']\n",
    "b = [0.2, 0.3, 0.1, 0.4] # a,b가 반드시 길이가 같은 list가 되어야 함 \n",
    "\n",
    "for s, i in  zip(a, b) : # zip을 통해 pair로 4개짜리가 됨 \n",
    "    print(\"{}:{}%\".format(s, i*100)) "
   ]
  },
  {
   "cell_type": "code",
   "execution_count": 21,
   "metadata": {},
   "outputs": [
    {
     "name": "stdout",
     "output_type": "stream",
     "text": [
      "yay!\n"
     ]
    }
   ],
   "source": [
    "#if \n",
    "a = 0\n",
    "if a ==0 : # ==을 두개 쓸 때 우리가 원래 알던 같다는 뜻을 가짐 \n",
    "    print (\"yay!\")"
   ]
  },
  {
   "cell_type": "code",
   "execution_count": 23,
   "metadata": {},
   "outputs": [],
   "source": [
    "if a!=0 : # a가 0이 아니라는 뜻 -> print out 이 안됨 \n",
    "    print(\"yay!\")"
   ]
  },
  {
   "cell_type": "code",
   "execution_count": 26,
   "metadata": {},
   "outputs": [
    {
     "name": "stdout",
     "output_type": "stream",
     "text": [
      "yay!\n",
      "let's go\n"
     ]
    }
   ],
   "source": [
    "a = 0\n",
    "if a ==0 :\n",
    "    print (\"yay!\")\n",
    "    print (\"let's go\")"
   ]
  },
  {
   "cell_type": "code",
   "execution_count": 27,
   "metadata": {},
   "outputs": [
    {
     "name": "stdout",
     "output_type": "stream",
     "text": [
      "yay!\n",
      "let's go\n"
     ]
    }
   ],
   "source": [
    "a = 0\n",
    "if a >=0 :\n",
    "    print(\"yay!\")\n",
    "    print(\"let's go\")"
   ]
  },
  {
   "cell_type": "code",
   "execution_count": 29,
   "metadata": {},
   "outputs": [
    {
     "name": "stdout",
     "output_type": "stream",
     "text": [
      "yay!\n",
      "let's go\n"
     ]
    }
   ],
   "source": [
    "a = 0\n",
    "if a ==0 :\n",
    "    print(\"yay!\")\n",
    "    print(\"let's go\")\n",
    "else :\n",
    "    print (\"no\")"
   ]
  },
  {
   "cell_type": "code",
   "execution_count": 31,
   "metadata": {},
   "outputs": [
    {
     "name": "stdout",
     "output_type": "stream",
     "text": [
      "no\n"
     ]
    }
   ],
   "source": [
    "a = 0\n",
    "if a !=0 :\n",
    "    print(\"yay!\")\n",
    "    print(\"let's go\")\n",
    "else :\n",
    "    print (\"no\")"
   ]
  },
  {
   "cell_type": "code",
   "execution_count": 32,
   "metadata": {},
   "outputs": [
    {
     "name": "stdout",
     "output_type": "stream",
     "text": [
      "3\n",
      "4\n",
      "6\n",
      "8\n"
     ]
    }
   ],
   "source": [
    "for i in range(1,3): # range 함수에 숫자를 두개를 넣으면 앞 숫자부터 뒷 숫자의 직전까지\n",
    "    for j in range(3,5):\n",
    "        print(i*j)   #바깥쪽 루프는 두번 돌고 각각 1,2번째에 각각 두번씩 돈다 -> 총 네 번 돌게 됨 ex) i가 1일 때 j가 3 1*3, j가 4 1*4 = 4\n",
    "        "
   ]
  },
  {
   "cell_type": "code",
   "execution_count": 33,
   "metadata": {},
   "outputs": [
    {
     "name": "stdout",
     "output_type": "stream",
     "text": [
      "1\n",
      "3\n",
      "4\n",
      "2\n",
      "6\n",
      "8\n"
     ]
    }
   ],
   "source": [
    "for i in range(1,3): \n",
    "    print(i)\n",
    "    for j in range(3,5): \n",
    "        print(i*j)  "
   ]
  },
  {
   "cell_type": "code",
   "execution_count": 34,
   "metadata": {},
   "outputs": [
    {
     "name": "stdout",
     "output_type": "stream",
     "text": [
      "4\n",
      "8\n"
     ]
    }
   ],
   "source": [
    "for i in range(1,3): \n",
    "    for j in range(3,5): \n",
    "        if j>= 4 : #j가 4보다 같거나 클 때의 조건을 만족시키지 못하면 제외, 2번만 돌게 됨\n",
    "            print(i*j)"
   ]
  },
  {
   "cell_type": "code",
   "execution_count": 35,
   "metadata": {},
   "outputs": [
    {
     "ename": "IndentationError",
     "evalue": "expected an indented block (<ipython-input-35-50025c23c57f>, line 3)",
     "output_type": "error",
     "traceback": [
      "\u001b[1;36m  File \u001b[1;32m\"<ipython-input-35-50025c23c57f>\"\u001b[1;36m, line \u001b[1;32m3\u001b[0m\n\u001b[1;33m    for j in range(3,5):\u001b[0m\n\u001b[1;37m      ^\u001b[0m\n\u001b[1;31mIndentationError\u001b[0m\u001b[1;31m:\u001b[0m expected an indented block\n"
     ]
    }
   ],
   "source": [
    "for i in range(1,3): \n",
    "    if i>= 3 : #띄어쓰기(Indent) 제대로 안되어있어서 error\n",
    "    for j in range(3,5): \n",
    "        print(i*j) "
   ]
  },
  {
   "cell_type": "code",
   "execution_count": 36,
   "metadata": {},
   "outputs": [],
   "source": [
    "for i in range(1,3): \n",
    "    if i>= 3 : \n",
    "        for j in range(3,5): \n",
    "            print(i*j) #값이 나올 수 없어서 결과가 안나옴"
   ]
  },
  {
   "cell_type": "code",
   "execution_count": null,
   "metadata": {},
   "outputs": [],
   "source": []
  }
 ],
 "metadata": {
  "kernelspec": {
   "display_name": "Python 3",
   "language": "python",
   "name": "python3"
  },
  "language_info": {
   "codemirror_mode": {
    "name": "ipython",
    "version": 3
   },
   "file_extension": ".py",
   "mimetype": "text/x-python",
   "name": "python",
   "nbconvert_exporter": "python",
   "pygments_lexer": "ipython3",
   "version": "3.7.3"
  }
 },
 "nbformat": 4,
 "nbformat_minor": 2
}
