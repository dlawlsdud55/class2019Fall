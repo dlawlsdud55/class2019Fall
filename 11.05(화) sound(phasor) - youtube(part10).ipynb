{
 "cells": [
  {
   "cell_type": "code",
   "execution_count": 5,
   "metadata": {},
   "outputs": [],
   "source": [
    "from matplotlib import pyplot as plt\n",
    "from mpl_toolkits.mplot3d import Axes3D\n",
    "from mpl_toolkits.axes_grid1 import make_axes_locatable\n",
    "import IPython.display as ipd\n",
    "import numpy as np\n",
    "%matplotlib notebook\n",
    "from scipy.signal import lfilter"
   ]
  },
  {
   "cell_type": "code",
   "execution_count": 1,
   "metadata": {},
   "outputs": [],
   "source": [
    "# parameter setting\n",
    "amp = 1          # range [0.0, 1.0] (2이면 2에서 -2까지)\n",
    "sr = 10000       # sampling rate, Hz (음질 상 얼마나 고해상도로 하는가 10000이면 1초에 10000개의 숫자로 표현한다는 의미)\n",
    "dur = 0.5        # in seconds (몇 초 동안 삐 소리가 나는가) \n",
    "freq = 100.0     # sine frequency, Hz (1초에 몇번 왔다갔다 하는가(태극 문양이 몇번 들어가는가), (per sec이라는 말이 들어갔기 떄문에 단위는 Hz))"
   ]
  },
  {
   "cell_type": "code",
   "execution_count": null,
   "metadata": {},
   "outputs": [],
   "source": [
    "t 0.0001 0.0002 0.0003 ... 0.5000 #필요한 만큼 time을 만드는 것 1. dur = 0.5까지 / 2. sr = 10000개니까 1초라면 총 10000개를 가야 함 \n",
    "# (아직 amplitude와 frequency는 들어가 있지 않음)"
   ]
  },
  {
   "cell_type": "code",
   "execution_count": null,
   "metadata": {},
   "outputs": [],
   "source": [
    "t = np. arange(1, sr) # 1에서 9999까지의 그래프?\n",
    "t = np arange (1, sr+1) # 1에서 10000까지의 그래프? \n",
    "t = np arange (1, sr*dur+1) # sr 10000개를 다 쓰는 것이 아니라 5000개까지 씀 / time tick의 index를 만들었지만 실제 time은 아님"
   ]
  },
  {
   "cell_type": "code",
   "execution_count": 6,
   "metadata": {},
   "outputs": [],
   "source": [
    "## generate time\n",
    "t = np.arange(1, sr * dur+1)/sr # 5000까지 만들어진 것을sr로 나누어주면 10000분의 1초부터 10000분의 5000초까지 만들어짐"
   ]
  },
  {
   "cell_type": "code",
   "execution_count": 7,
   "metadata": {},
   "outputs": [
    {
     "data": {
      "text/plain": [
       "array([1.000e-04, 2.000e-04, 3.000e-04, ..., 4.998e-01, 4.999e-01,\n",
       "       5.000e-01])"
      ]
     },
     "execution_count": 7,
     "metadata": {},
     "output_type": "execute_result"
    }
   ],
   "source": [
    "t #out에서 1.000e-04는 1 x e-0.4(10에 4승(10000)분의 1)  "
   ]
  },
  {
   "cell_type": "code",
   "execution_count": 8,
   "metadata": {},
   "outputs": [],
   "source": [
    "## generate phase(theta 값에 들어가는 것)\n",
    "theta = t * 2*np.pi * freq # 위에서 만든 t * np.pi(상수 값 / np 속 pi) ex) 1초에서의 time 값은 1 * 2np.pi = 2pi 한 바퀴를 도는 것\n",
    "# (2 pi가 1초 동안에 총 몇 개가 있어야 하는가) , 아까 frequency가 100이었으니까 총 100바퀴를 돌아라는 의미"
   ]
  },
  {
   "cell_type": "code",
   "execution_count": 9,
   "metadata": {},
   "outputs": [],
   "source": [
    "## generate signal by cosine-phasor\n",
    "s = np.sin(theta) "
   ]
  },
  {
   "cell_type": "code",
   "execution_count": null,
   "metadata": {},
   "outputs": [],
   "source": [
    "# Q. t의 벡타의 사이즈와 theta의 벡타의 사이즈는 같을까? yes 총 5000개"
   ]
  },
  {
   "cell_type": "code",
   "execution_count": 10,
   "metadata": {},
   "outputs": [
    {
     "data": {
      "text/plain": [
       "Text(0, 0.5, 'real')"
      ]
     },
     "execution_count": 10,
     "metadata": {},
     "output_type": "execute_result"
    },
    {
     "data": {
      "image/png": "[encoded data removed]",
      "text/plain": [
       "<Figure size 432x288 with 1 Axes>"
      ]
     },
     "metadata": {
      "needs_background": "light"
     },
     "output_type": "display_data"
    }
   ],
   "source": [
    "fig = plt.figure()\n",
    "ax = fig.add_subplot(111)\n",
    "ax.plot(t[0:1000], s[0:1000], '.') # plot이라는 함수가 t를 x라고 하고 s를 y로 해서 점으로 표현해서 plotting해라 , \n",
    "# 5000개가 아니라 1000개만 plot한 것 - timewise가 0.1초까지 /  sin 곡선의 모양을 볼 수 있음\n",
    "ax.set_xlabel('time (s)')\n",
    "ax.set_ylabel('real')"
   ]
  },
  {
   "cell_type": "code",
   "execution_count": null,
   "metadata": {},
   "outputs": [],
   "source": [
    "# generate signal by complex-phasor\n",
    "c = np.exp(theta*1j) # e에 해당하는 것이 오일러"
   ]
  }
 ],
 "metadata": {
  "kernelspec": {
   "display_name": "Python 3",
   "language": "python",
   "name": "python3"
  },
  "language_info": {
   "codemirror_mode": {
    "name": "ipython",
    "version": 3
   },
   "file_extension": ".py",
   "mimetype": "text/x-python",
   "name": "python",
   "nbconvert_exporter": "python",
   "pygments_lexer": "ipython3",
   "version": "3.7.3"
  }
 },
 "nbformat": 4,
 "nbformat_minor": 2
}
